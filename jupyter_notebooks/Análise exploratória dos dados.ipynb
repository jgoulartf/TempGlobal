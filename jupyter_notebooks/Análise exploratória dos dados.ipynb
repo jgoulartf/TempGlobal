{
 "cells": [
  {
   "cell_type": "markdown",
   "source": [
    "# Análises e transformações dos dados\n",
    "- **Este notebook visa analisar os dados utilizados para realização do trabalho final da disciplina de cálculo numérico**\n",
    "- **Serão realizadas transformações necessárias nos dados para ser possível criar visualizações diferentes no Dashboard.**\n",
    "    -   A primeira mudança realizada é a criação de uma coluna nomeada \"fonte\", ao qual vai informar a fonte do dado, ou seja, a base metereológica que capturou aquele dado "
   ],
   "metadata": {
    "collapsed": false
   },
   "id": "adf77de2c6dd5a04"
  },
  {
   "cell_type": "markdown",
   "source": [
    "#### Lendo e exibindo dados"
   ],
   "metadata": {
    "collapsed": false
   },
   "id": "7ae53d791dd488a9"
  },
  {
   "cell_type": "code",
   "execution_count": 1,
   "outputs": [],
   "source": [
    "# Imports utilitários\n",
    "import pandas as pd\n",
    "import numpy as np\n",
    "import matplotlib.pyplot as plt"
   ],
   "metadata": {
    "collapsed": false,
    "ExecuteTime": {
     "end_time": "2023-10-07T13:07:25.525495800Z",
     "start_time": "2023-10-07T13:07:22.220032400Z"
    }
   },
   "id": "f60205a969f021f3"
  },
  {
   "cell_type": "code",
   "execution_count": 2,
   "id": "initial_id",
   "metadata": {
    "collapsed": true,
    "ExecuteTime": {
     "end_time": "2023-10-07T13:07:25.624730100Z",
     "start_time": "2023-10-07T13:07:25.521974100Z"
    }
   },
   "outputs": [
    {
     "data": {
      "text/plain": "   Category  NOAA National Climatic Data Center  \\\n0    1880.0                               -0.20   \n1    1881.0                               -0.16   \n2    1882.0                               -0.16   \n3    1883.0                               -0.25   \n4    1884.0                               -0.34   \n\n   NASA Goddard Institute for Space Studies  Japanese Meteorological Agency  \\\n0                                     -0.17                             NaN   \n1                                     -0.09                             NaN   \n2                                     -0.11                             NaN   \n3                                     -0.18                             NaN   \n4                                     -0.28                             NaN   \n\n   Met Office Hadley Centre/Climatic Research Unit  \n0                                            -0.25  \n1                                            -0.17  \n2                                            -0.23  \n3                                            -0.28  \n4                                            -0.43  ",
      "text/html": "<div>\n<style scoped>\n    .dataframe tbody tr th:only-of-type {\n        vertical-align: middle;\n    }\n\n    .dataframe tbody tr th {\n        vertical-align: top;\n    }\n\n    .dataframe thead th {\n        text-align: right;\n    }\n</style>\n<table border=\"1\" class=\"dataframe\">\n  <thead>\n    <tr style=\"text-align: right;\">\n      <th></th>\n      <th>Category</th>\n      <th>NOAA National Climatic Data Center</th>\n      <th>NASA Goddard Institute for Space Studies</th>\n      <th>Japanese Meteorological Agency</th>\n      <th>Met Office Hadley Centre/Climatic Research Unit</th>\n    </tr>\n  </thead>\n  <tbody>\n    <tr>\n      <th>0</th>\n      <td>1880.0</td>\n      <td>-0.20</td>\n      <td>-0.17</td>\n      <td>NaN</td>\n      <td>-0.25</td>\n    </tr>\n    <tr>\n      <th>1</th>\n      <td>1881.0</td>\n      <td>-0.16</td>\n      <td>-0.09</td>\n      <td>NaN</td>\n      <td>-0.17</td>\n    </tr>\n    <tr>\n      <th>2</th>\n      <td>1882.0</td>\n      <td>-0.16</td>\n      <td>-0.11</td>\n      <td>NaN</td>\n      <td>-0.23</td>\n    </tr>\n    <tr>\n      <th>3</th>\n      <td>1883.0</td>\n      <td>-0.25</td>\n      <td>-0.18</td>\n      <td>NaN</td>\n      <td>-0.28</td>\n    </tr>\n    <tr>\n      <th>4</th>\n      <td>1884.0</td>\n      <td>-0.34</td>\n      <td>-0.28</td>\n      <td>NaN</td>\n      <td>-0.43</td>\n    </tr>\n  </tbody>\n</table>\n</div>"
     },
     "execution_count": 2,
     "metadata": {},
     "output_type": "execute_result"
    }
   ],
   "source": [
    "# Lendo e exibindo cabeçalho dos dados\n",
    "dados = pd.read_csv(\"./data/DadosEscolhidos.csv\")\n",
    "dados.head()"
   ]
  },
  {
   "cell_type": "code",
   "execution_count": 33,
   "outputs": [],
   "source": [
    "dados['NOAA National Climatic Data Center'] = dados['NOAA National Climatic Data Center'].astype(float)\n",
    "dados['NASA Goddard Institute for Space Studies'] = dados['NASA Goddard Institute for Space Studies'].astype(float)\n",
    "dados['Japanese Meteorological Agency'] = dados['Japanese Meteorological Agency'].astype(float)\n",
    "dados['Met Office Hadley Centre/Climatic Research Unit'] = dados['Met Office Hadley Centre/Climatic Research Unit'].astype(float)\n",
    "\n",
    "# Use a função melt para transformar as colunas de fontes em linhas\n",
    "df_melted = pd.melt(dados, id_vars=['Category'], var_name='Fonte', value_name='Valor')\n",
    "\n",
    "# Transforma a coluna category em dados do tipo int\n",
    "df_melted['Category'] = df_melted['Category'].astype(int)\n",
    "df_melted['Valor'] = df_melted['Valor'].astype(float)\n",
    "\n",
    "# Renomeando coluna category para ano.\n",
    "df_melted.rename(columns={'Category': 'Ano'}, inplace=True)\n",
    "\n",
    "# Definindo formato decimal para a coluna valor, 4 casas decimais\n",
    "formato_decimal = \"{:.4f}\"\n",
    "\n",
    "# Exiba o DataFrame resultante\n",
    "df_melted.to_csv(\"./data/dados_transformados.csv\", float_format='%.2f', decimal='.')\n"
   ],
   "metadata": {
    "collapsed": false,
    "ExecuteTime": {
     "end_time": "2023-10-04T21:58:33.112446Z",
     "start_time": "2023-10-04T21:58:33.080480900Z"
    }
   },
   "id": "aba49ee65d0082fd"
  },
  {
   "cell_type": "markdown",
   "source": [
    "### Separando dados em 4 tabelas"
   ],
   "metadata": {
    "collapsed": false
   },
   "id": "13f6dd2c1c9d5e"
  },
  {
   "cell_type": "code",
   "execution_count": 3,
   "outputs": [],
   "source": [
    "dados_noaa = dados[['Category', 'NOAA National Climatic Data Center']]\n",
    "dados_nasa = dados[['Category', 'NASA Goddard Institute for Space Studies']]\n",
    "dados_jma = dados[['Category', 'Japanese Meteorological Agency']]\n",
    "dados_met_office = dados[['Category', 'Met Office Hadley Centre/Climatic Research Unit']]\n",
    "\n",
    "dados_noaa.to_csv('./data/dados_noaa.csv')\n",
    "dados_nasa.to_csv('./data/dados_nasa.csv')\n",
    "dados_jma.to_csv('./data/dados_jma.csv')\n",
    "dados_met_office.to_csv('./data/dados_met_office.csv')\n",
    "\n"
   ],
   "metadata": {
    "collapsed": false,
    "ExecuteTime": {
     "end_time": "2023-10-07T13:10:26.244463500Z",
     "start_time": "2023-10-07T13:10:26.202457200Z"
    }
   },
   "id": "f4c7293c3a16de83"
  },
  {
   "cell_type": "markdown",
   "source": [
    "# Análise de outliers"
   ],
   "metadata": {
    "collapsed": false
   },
   "id": "7ecb7795721fa1e9"
  },
  {
   "cell_type": "code",
   "execution_count": null,
   "outputs": [],
   "source": [],
   "metadata": {
    "collapsed": false
   },
   "id": "c3e1c0d4b3d79ef3"
  }
 ],
 "metadata": {
  "kernelspec": {
   "display_name": "Python 3",
   "language": "python",
   "name": "python3"
  },
  "language_info": {
   "codemirror_mode": {
    "name": "ipython",
    "version": 2
   },
   "file_extension": ".py",
   "mimetype": "text/x-python",
   "name": "python",
   "nbconvert_exporter": "python",
   "pygments_lexer": "ipython2",
   "version": "2.7.6"
  }
 },
 "nbformat": 4,
 "nbformat_minor": 5
}
